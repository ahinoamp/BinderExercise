{
 "cells": [
  {
   "cell_type": "code",
   "execution_count": 1,
   "metadata": {},
   "outputs": [],
   "source": [
    "import k3d\n",
    "import k3d.platonic as platonic\n",
    "import math\n",
    "import numpy as np\n",
    "\n",
    "def test(plot):\n",
    "    colors = [0xff0000, 0x00ff00, 0x0000ff, 0xffff00, 0xff00ff]\n",
    "\n",
    "    for j in range(5):\n",
    "        meshes = [\n",
    "            platonic.Dodecahedron().mesh,\n",
    "            platonic.Cube().mesh,\n",
    "            platonic.Icosahedron().mesh,\n",
    "            platonic.Octahedron().mesh,\n",
    "            platonic.Tetrahedron().mesh\n",
    "        ]\n",
    "\n",
    "        for i, obj in enumerate(meshes):\n",
    "            rad = math.radians(i / len(meshes) * 360)\n",
    "            radius = 3.5\n",
    "            obj.transform.translation = [math.sin(rad) * radius, math.cos(rad) * radius, 2*j]\n",
    "            obj.color = colors[i]\n",
    "            plot += obj\n",
    "\n",
    "    plot.render()"
   ]
  },
  {
   "cell_type": "code",
   "execution_count": 2,
   "metadata": {},
   "outputs": [
    {
     "data": {
      "application/vnd.jupyter.widget-view+json": {
       "model_id": "fde0cb67a94543b9ac0141512fcc4611",
       "version_major": 2,
       "version_minor": 0
      },
      "text/plain": [
       "Output()"
      ]
     },
     "metadata": {},
     "output_type": "display_data"
    }
   ],
   "source": [
    "plot = k3d.plot()\n",
    "plot.display()"
   ]
  },
  {
   "cell_type": "code",
   "execution_count": 3,
   "metadata": {},
   "outputs": [],
   "source": [
    "test(plot)"
   ]
  },
  {
   "cell_type": "code",
   "execution_count": 4,
   "metadata": {},
   "outputs": [],
   "source": [
    "while plot.objects:\n",
    "    plot -= plot.objects[-1]\n",
    "\n",
    "plot.render()"
   ]
  },
  {
   "cell_type": "code",
   "execution_count": 5,
   "metadata": {},
   "outputs": [],
   "source": [
    "plot.auto_rendering = False"
   ]
  },
  {
   "cell_type": "code",
   "execution_count": 6,
   "metadata": {},
   "outputs": [],
   "source": [
    "test(plot)"
   ]
  },
  {
   "cell_type": "code",
   "execution_count": null,
   "metadata": {},
   "outputs": [],
   "source": []
  }
 ],
 "metadata": {
  "kernelspec": {
   "display_name": "Python 3",
   "language": "python",
   "name": "python3"
  },
  "language_info": {
   "codemirror_mode": {
    "name": "ipython",
    "version": 3
   },
   "file_extension": ".py",
   "mimetype": "text/x-python",
   "name": "python",
   "nbconvert_exporter": "python",
   "pygments_lexer": "ipython3",
   "version": "3.7.6"
  }
 },
 "nbformat": 4,
 "nbformat_minor": 2
}
